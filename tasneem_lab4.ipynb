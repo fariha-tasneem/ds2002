{
 "cells": [
  {
   "cell_type": "code",
   "execution_count": 2,
   "id": "3a16a234",
   "metadata": {},
   "outputs": [],
   "source": [
    "import json\n",
    "import pandas as pd\n",
    "import requests\n",
    "import yfinance as yf\n",
    "import matplotlib.pyplot as plt"
   ]
  },
  {
   "cell_type": "code",
   "execution_count": 113,
   "id": "8d9bfd1b",
   "metadata": {},
   "outputs": [
    {
     "name": "stdout",
     "output_type": "stream",
     "text": [
      "aapl\n"
     ]
    }
   ],
   "source": [
    "userInput = input()"
   ]
  },
  {
   "cell_type": "code",
   "execution_count": 114,
   "id": "5b6486d6",
   "metadata": {},
   "outputs": [],
   "source": [
    "stock = yf.Ticker(userInput)"
   ]
  },
  {
   "cell_type": "code",
   "execution_count": 111,
   "id": "ef0f7cb8",
   "metadata": {},
   "outputs": [],
   "source": [
    "def get_response(stock_name, ticker_sym):\n",
    "    \n",
    "    # EXCEPTION HANDLING - Handle Errors (IE, the stock doesn’t exist and/or the API is not returning information)\n",
    "    try:\n",
    "        info = ticker_sym.info\n",
    "    except:\n",
    "        print(f\"Cannot get information for stock, check spelling or it does not exist\")\n",
    "        continue\n",
    "    \n",
    "    # \n",
    "    urlQuote = 'https://query1.finance.yahoo.com/v7/finance/quote'\n",
    "    querystring= {\"symbols\": userInput}\n",
    "\n",
    "    header_var ={\n",
    "        'User-Agent': 'Mozilla/5.0 (Macintosh; Intel Mac OS X 10_10_1) AppleWebKit/537.36 (KHTML, like Gecko) Chrome/39.0.2171.95 Safari/537.36'}\n",
    "\n",
    "    response = requests.request(\"GET\",urlQuote, headers=header_var,params=querystring)\n",
    "    stock_json = response.json()\n",
    "    \n",
    "    # \n",
    "    urlQuote2 = \"https://query1.finance.yahoo.com/v10/finance/quoteSummary/\"\n",
    "    querystring2 = {\"symbol\": userInput, \"modules\":\"defaultKeyStatistics\"}\n",
    "\n",
    "    response2 = requests.request(\"GET\",urlQuote2, headers=header_var,params=querystring2)\n",
    "    stock_json2 = response2.json()\n",
    "\n",
    "    # \n",
    "    urlQuote3 = \"https://query1.finance.yahoo.com/v10/finance/quoteSummary/\"\n",
    "    querystring3 = {\"symbol\": userInput, \"modules\":\"financialData\"}\n",
    "\n",
    "    response3 = requests.request(\"GET\",urlQuote3, headers=header_var,params=querystring3)\n",
    "    stock_json3 = response3.json()\n",
    "\n",
    "\n",
    "    print(\"\\n Ticker Name: \" + userInput, \n",
    "          \"\\n Full Name: \" + stock_json['quoteResponse']['result'][0]['longName'], \n",
    "         \"\\n Current Price: \" + stock_json3['quoteSummary']['result'][0]['financialData']['currentPrice']['fmt']\n",
    ", \n",
    "         \"\\n Target Mean Price: \" + stock_json3['quoteSummary']['result'][0]['financialData']['targetMeanPrice']['fmt']\n",
    ",\n",
    "         \"\\n Cash on Hand: \" + stock_json3['quoteSummary']['result'][0]['financialData']['totalCash']['fmt']\n",
    ",\n",
    "         \"\\n Profit Margins: \" + stock_json2['quoteSummary']['result'][0]['defaultKeyStatistics']['profitMargins']['fmt']\n",
    ")\n",
    "    \n",
    "    #Use MatPlotLib to chart the historical price of a stock price’s highest value over the past 5 days.\n",
    "    hist = ticker_sym.history(pe\n",
    "                              iod=\"5d\")\n",
    "    hist[\"Close\"].plot()\n",
    "    \n",
    "    \n",
    "    \n",
    "    \n",
    "    \n",
    "    "
   ]
  },
  {
   "cell_type": "code",
   "execution_count": 112,
   "id": "6824bef2",
   "metadata": {},
   "outputs": [
    {
     "name": "stdout",
     "output_type": "stream",
     "text": [
      "\n",
      " Ticker Name: aapl \n",
      " Full Name: Apple Inc. \n",
      " Current Price: 138.38 \n",
      " Target Mean Price: 183.16 \n",
      " Cash on Hand: 48.23B \n",
      " Profit Margins: 25.71%\n"
     ]
    },
    {
     "data": {
      "image/png": "[encoded data removed]",
      "text/plain": [
       "<Figure size 432x288 with 1 Axes>"
      ]
     },
     "metadata": {
      "needs_background": "light"
     },
     "output_type": "display_data"
    }
   ],
   "source": [
    "get_response(userInput, stock)"
   ]
  },
  {
   "cell_type": "code",
   "execution_count": null,
   "id": "0eb56ce4",
   "metadata": {},
   "outputs": [],
   "source": []
  }
 ],
 "metadata": {
  "kernelspec": {
   "display_name": "Python 3 (ipykernel)",
   "language": "python",
   "name": "python3"
  },
  "language_info": {
   "codemirror_mode": {
    "name": "ipython",
    "version": 3
   },
   "file_extension": ".py",
   "mimetype": "text/x-python",
   "name": "python",
   "nbconvert_exporter": "python",
   "pygments_lexer": "ipython3",
   "version": "3.9.12"
  }
 },
 "nbformat": 4,
 "nbformat_minor": 5
}
